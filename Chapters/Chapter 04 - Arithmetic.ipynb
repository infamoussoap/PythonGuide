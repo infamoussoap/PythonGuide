{
 "cells": [
  {
   "cell_type": "markdown",
   "id": "3df7df78",
   "metadata": {},
   "source": [
    "# Arithmetic in Native Python\n",
    "\n",
    "In most languagues arithmetic follows the IEE standard. For the most part, Python follows the same rules except for integers. In Python, integers can have arbitrary precisions, while integers for most languages only have finite precision."
   ]
  },
  {
   "cell_type": "code",
   "execution_count": 16,
   "id": "70f74da6",
   "metadata": {},
   "outputs": [
    {
     "data": {
      "text/plain": [
       "828179745220145502584084235957368498016122811853894435464201864103254919330121223037770283296858019385573376"
      ]
     },
     "execution_count": 16,
     "metadata": {},
     "output_type": "execute_result"
    }
   ],
   "source": [
    "x = 12\n",
    "x ** 100"
   ]
  },
  {
   "cell_type": "markdown",
   "id": "b7accf7f",
   "metadata": {},
   "source": [
    "# Arithmetic in Numpy\n",
    "Numpy will be the main workhorse of any numerical applications you may have. While it is not considered to be pure Python, it may as well be. But Numpy follows IEE standard. The finite precision of the IEE standard results in the above code giving nonsense results"
   ]
  },
  {
   "cell_type": "code",
   "execution_count": 19,
   "id": "a9687523",
   "metadata": {},
   "outputs": [
    {
     "data": {
      "text/plain": [
       "0"
      ]
     },
     "execution_count": 19,
     "metadata": {},
     "output_type": "execute_result"
    }
   ],
   "source": [
    "import numpy as np\n",
    "\n",
    "z = np.int64(12)\n",
    "z ** 100"
   ]
  },
  {
   "cell_type": "markdown",
   "id": "b790e988",
   "metadata": {},
   "source": [
    "### Precision Levels\n",
    "Integers and decimals can be represented using various levels of precision, in powers of 2:\n",
    "- `np.int8, np.int16, np.int32, np.int64`\n",
    "- `np.float32, np.float64`. As a brief note, `float32` is also known as single precisions and `float64` is known as double precision.\n",
    "\n",
    "Higher precision uses more memory, but allow for more precise calculations."
   ]
  },
  {
   "cell_type": "code",
   "execution_count": 35,
   "id": "d3d09347",
   "metadata": {},
   "outputs": [
    {
     "data": {
      "text/plain": [
       "0.015132027"
      ]
     },
     "execution_count": 35,
     "metadata": {},
     "output_type": "execute_result"
    }
   ],
   "source": [
    "a = np.float32(0.123012304)\n",
    "a * a"
   ]
  },
  {
   "cell_type": "code",
   "execution_count": 36,
   "id": "fce53bce",
   "metadata": {},
   "outputs": [
    {
     "data": {
      "text/plain": [
       "0.015132026935388416"
      ]
     },
     "execution_count": 36,
     "metadata": {},
     "output_type": "execute_result"
    }
   ],
   "source": [
    "a = np.float64(0.123012304)\n",
    "a * a"
   ]
  },
  {
   "cell_type": "markdown",
   "id": "77519b58",
   "metadata": {},
   "source": [
    "While precision levels may be something to keep in mind, it is typically of no practical importance to the basic user. In fact, single precision is the default level of precision in Tensorflow and PyTorch. While this helps with memory, the numerical errors act as noise in the traning of the model, providing a simple way of regularization."
   ]
  },
  {
   "cell_type": "markdown",
   "id": "9deb0811",
   "metadata": {},
   "source": [
    "### Infinity\n",
    "\n",
    "This is not the only difference between arithmetic in Python vs Numpy. When dividing by 0, Numpy returns infinity while Python raises an error."
   ]
  },
  {
   "cell_type": "code",
   "execution_count": 22,
   "id": "95a2748b",
   "metadata": {},
   "outputs": [
    {
     "name": "stderr",
     "output_type": "stream",
     "text": [
      "/var/folders/99/5f_qszrn5y132sfcdd12k2f80000gn/T/ipykernel_49530/3746325158.py:1: RuntimeWarning: divide by zero encountered in double_scalars\n",
      "  np.float64(1) / np.float64(0)\n"
     ]
    },
    {
     "data": {
      "text/plain": [
       "inf"
      ]
     },
     "execution_count": 22,
     "metadata": {},
     "output_type": "execute_result"
    }
   ],
   "source": [
    "np.float64(1) / np.float64(0)"
   ]
  },
  {
   "cell_type": "code",
   "execution_count": 23,
   "id": "313a89b3",
   "metadata": {},
   "outputs": [
    {
     "ename": "ZeroDivisionError",
     "evalue": "division by zero",
     "output_type": "error",
     "traceback": [
      "\u001b[0;31m---------------------------------------------------------------------------\u001b[0m",
      "\u001b[0;31mZeroDivisionError\u001b[0m                         Traceback (most recent call last)",
      "Cell \u001b[0;32mIn [23], line 1\u001b[0m\n\u001b[0;32m----> 1\u001b[0m \u001b[38;5;241;43m1\u001b[39;49m\u001b[43m \u001b[49m\u001b[38;5;241;43m/\u001b[39;49m\u001b[43m \u001b[49m\u001b[38;5;241;43m0\u001b[39;49m\n",
      "\u001b[0;31mZeroDivisionError\u001b[0m: division by zero"
     ]
    }
   ],
   "source": [
    "1 / 0"
   ]
  },
  {
   "cell_type": "code",
   "execution_count": 24,
   "id": "8990e5c4",
   "metadata": {},
   "outputs": [
    {
     "data": {
      "text/plain": [
       "nan"
      ]
     },
     "execution_count": 24,
     "metadata": {},
     "output_type": "execute_result"
    }
   ],
   "source": [
    "np.inf - np.inf"
   ]
  },
  {
   "cell_type": "code",
   "execution_count": 25,
   "id": "06295071",
   "metadata": {},
   "outputs": [
    {
     "data": {
      "text/plain": [
       "nan"
      ]
     },
     "execution_count": 25,
     "metadata": {},
     "output_type": "execute_result"
    }
   ],
   "source": [
    "np.inf / np.inf"
   ]
  },
  {
   "cell_type": "code",
   "execution_count": null,
   "id": "18114b86",
   "metadata": {},
   "outputs": [],
   "source": []
  }
 ],
 "metadata": {
  "kernelspec": {
   "display_name": "Python 3 (ipykernel)",
   "language": "python",
   "name": "python3"
  },
  "language_info": {
   "codemirror_mode": {
    "name": "ipython",
    "version": 3
   },
   "file_extension": ".py",
   "mimetype": "text/x-python",
   "name": "python",
   "nbconvert_exporter": "python",
   "pygments_lexer": "ipython3",
   "version": "3.10.6"
  }
 },
 "nbformat": 4,
 "nbformat_minor": 5
}
